{
  "nbformat": 4,
  "nbformat_minor": 0,
  "metadata": {
    "colab": {
      "provenance": [],
      "authorship_tag": "ABX9TyOnAePdiKmNO/+CWt5k0s9a",
      "include_colab_link": true
    },
    "kernelspec": {
      "name": "python3",
      "display_name": "Python 3"
    },
    "language_info": {
      "name": "python"
    }
  },
  "cells": [
    {
      "cell_type": "markdown",
      "metadata": {
        "id": "view-in-github",
        "colab_type": "text"
      },
      "source": [
        "<a href=\"https://colab.research.google.com/github/mbb15761/hello-world/blob/master/2025fall_seis767_hw01_YanNi.ipynb\" target=\"_parent\"><img src=\"https://colab.research.google.com/assets/colab-badge.svg\" alt=\"Open In Colab\"/></a>"
      ]
    },
    {
      "cell_type": "code",
      "execution_count": null,
      "metadata": {
        "id": "DIF4SC6ZmjW-"
      },
      "outputs": [],
      "source": []
    },
    {
      "cell_type": "markdown",
      "source": [
        "# Chapter 1: An introduction to LLMs\n",
        "## A recent history of AI\n",
        "* 1950s - 2000s **Bag-of-words**\n",
        ": create representations of text in the form of numbers (vector representations). *Ignores the sematic of text*\n",
        "* 2013 **word2vec** : Embeddings, semantic vector representations of text. It measures the semantic *similarity* between two words.\n",
        "* types of embeddings: Document embeddings, Sentence embeddings, Word embeddings, Token embeddings\n",
        "* same embeddings for one word regardless of context\n",
        "* **Encoder and decoder** context embedding only deal with short sentences since representing the entire input\n",
        "* 2014 **Attention + RNN** sequential nature of text\n",
        "* 2017 **Transformer** : attention only, parallel training, a combination of stacked encoder and decoder blocks. Tranformer encoder: self-attention + feedforward neural network\n",
        "* 2018 **BERT** Bidirectional encoder representations from Transformers"
      ],
      "metadata": {
        "id": "NXQDexj0mx2x"
      }
    },
    {
      "cell_type": "markdown",
      "source": [
        "# Jay Alamar's illustration on Deepseek-R1\n"
      ],
      "metadata": {
        "id": "c4LvbCdAoRNq"
      }
    },
    {
      "cell_type": "markdown",
      "source": [
        "# Questions\n",
        "## Chapter 1 questions\n",
        "1. P10 Bag-of-words creates embeddings at a document level whereas word2vec generates embeddings for words only. What does this sentense mean? (bag-of-words: take the whole documents and break down them to vocabularies and count the repetation of each word?)\n",
        "2. P11 autoregressive"
      ],
      "metadata": {
        "id": "EKSlymp9o2FY"
      }
    }
  ]
}